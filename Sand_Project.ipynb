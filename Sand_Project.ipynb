{
  "nbformat": 4,
  "nbformat_minor": 0,
  "metadata": {
    "colab": {
      "provenance": []
    },
    "kernelspec": {
      "name": "python3",
      "display_name": "Python 3"
    },
    "language_info": {
      "name": "python"
    }
  },
  "cells": [
    {
      "cell_type": "markdown",
      "source": [
        "## These codes shows the how to generate the stress-strain plot for the sample at 50MPa"
      ],
      "metadata": {
        "id": "JXTX1SSD40iz"
      }
    },
    {
      "cell_type": "code",
      "source": [
        "import pandas as pd\n",
        "import matplotlib.pyplot as plt\n",
        "from scipy.interpolate import interp1d\n",
        "\n",
        "# Read the Excel file\n",
        "df = pd.read_excel('sample.xlsx')\n",
        "\n",
        "# Extract data from two different columns\n",
        "x_data = df['Strain50']\n",
        "y_data = df['Stress50']\n",
        "\n",
        "# Interpolate missing data for both x and y\n",
        "interpolator_x = interp1d(df.index, x_data, kind='linear', fill_value='extrapolate')\n",
        "interpolator_y = interp1d(df.index, y_data, kind='linear', fill_value='extrapolate')\n",
        "\n",
        "\n",
        "# Generate new index values for interpolation\n",
        "new_index = pd.RangeIndex(start=df.index.min(), stop=df.index.max() + 1)\n",
        "\n",
        "# Interpolate x and y values for the new index\n",
        "x_interp = interpolator_x(new_index)\n",
        "y_interp = interpolator_y(new_index)\n",
        "\n",
        "\n",
        "plt.figure(figsize=(16, 6))  # Adjust the size as needed\n",
        "\n",
        "# Plotting with interpolated data\n",
        "plt.plot(x_interp, y_interp, label='Interpolated Data', marker='o', linestyle='-')\n",
        "plt.xlabel('Strain')\n",
        "plt.ylabel('Stress')\n",
        "plt.title('Stress-strain response for 50 MPa')\n",
        "plt.legend()\n",
        "plt.grid(True)  # Adding grid for clarity\n",
        "plt.show()\n"
      ],
      "metadata": {
        "id": "UsaqqLfX4n7M"
      },
      "execution_count": null,
      "outputs": []
    },
    {
      "cell_type": "markdown",
      "source": [
        "## These codes shows the how to generate the stress-strain plot forthe sample at 10MPa\n",
        "\n",
        "\n"
      ],
      "metadata": {
        "id": "McSamZVx5ShL"
      }
    },
    {
      "cell_type": "code",
      "source": [
        "import pandas as pd\n",
        "import matplotlib.pyplot as plt\n",
        "from scipy.interpolate import interp1d\n",
        "\n",
        "# Read the Excel file\n",
        "df = pd.read_excel('sample.xlsx')\n",
        "\n",
        "# Extract data from two different columns\n",
        "x_data = df['Strain10']\n",
        "y_data = df['Stress10']\n",
        "\n",
        "# Interpolate missing data for both x and y\n",
        "interpolator_x = interp1d(df.index, x_data, kind='linear', fill_value='extrapolate')\n",
        "interpolator_y = interp1d(df.index, y_data, kind='linear', fill_value='extrapolate')\n",
        "\n",
        "\n",
        "# Generate new index values for interpolation\n",
        "new_index = pd.RangeIndex(start=df.index.min(), stop=df.index.max() + 1)\n",
        "\n",
        "# Interpolate x and y values for the new index\n",
        "x_interp = interpolator_x(new_index)\n",
        "y_interp = interpolator_y(new_index)\n",
        "\n",
        "\n",
        "plt.figure(figsize=(16, 6))  # Adjust the size as needed\n",
        "\n",
        "# Plotting with interpolated data\n",
        "plt.plot(x_interp, y_interp, label='Interpolated Data', marker='o', linestyle='-')\n",
        "plt.xlabel('Strain')\n",
        "plt.ylabel('Stress')\n",
        "plt.title('Stress-strain response for 10 MPa')\n",
        "plt.legend()\n",
        "plt.grid(True)  # Adding grid for clarity\n",
        "plt.show()\n"
      ],
      "metadata": {
        "id": "cyTdvCfb5VBM"
      },
      "execution_count": null,
      "outputs": []
    },
    {
      "cell_type": "markdown",
      "source": [
        "## These codes shows the how to generate the stress-strain plot forthe sample at 2MPa\n",
        "\n"
      ],
      "metadata": {
        "id": "lDcR7CJJ5eOL"
      }
    },
    {
      "cell_type": "code",
      "source": [
        "import pandas as pd\n",
        "import matplotlib.pyplot as plt\n",
        "from scipy.interpolate import interp1d\n",
        "\n",
        "# Read the Excel file\n",
        "df = pd.read_excel('sample.xlsx')\n",
        "\n",
        "# Extract data from two different columns\n",
        "x_data = df['Strain2']\n",
        "y_data = df['Stress2']\n",
        "\n",
        "# Interpolate missing data for both x and y\n",
        "interpolator_x = interp1d(df.index, x_data, kind='linear', fill_value='extrapolate')\n",
        "interpolator_y = interp1d(df.index, y_data, kind='linear', fill_value='extrapolate')\n",
        "\n",
        "\n",
        "# Generate new index values for interpolation\n",
        "new_index = pd.RangeIndex(start=df.index.min(), stop=df.index.max() + 1)\n",
        "\n",
        "# Interpolate x and y values for the new index\n",
        "x_interp = interpolator_x(new_index)\n",
        "y_interp = interpolator_y(new_index)\n",
        "\n",
        "\n",
        "plt.figure(figsize=(16, 6))  # Adjust the size as needed\n",
        "\n",
        "# Plotting with interpolated data\n",
        "plt.plot(x_interp, y_interp, label='Interpolated Data', marker='o', linestyle='-')\n",
        "plt.xlabel('Strain')\n",
        "plt.ylabel('Stress')\n",
        "plt.title('Stress-strain response for 2 MPa')\n",
        "plt.legend()\n",
        "plt.grid(True)  # Adding grid for clarity\n",
        "plt.show()\n"
      ],
      "metadata": {
        "id": "bwV35RLQ5lGS"
      },
      "execution_count": null,
      "outputs": []
    },
    {
      "cell_type": "markdown",
      "source": [
        "## These codes shows the how to generate the stress-strain plot for the sample and the unsaturated sample at 50MPa"
      ],
      "metadata": {
        "id": "6LIgr1Lo53G7"
      }
    },
    {
      "cell_type": "code",
      "source": [
        "import pandas as pd\n",
        "import matplotlib.pyplot as plt\n",
        "from scipy.interpolate import interp1d\n",
        "\n",
        "# Read the Excel files\n",
        "df = pd.read_excel('saturated_sample.xlsx')\n",
        "df1 = pd.read_excel('sample.xlsx')\n",
        "\n",
        "# Extract data from the first Excel file\n",
        "x_data = df['Strain50']\n",
        "y_data = df['Stress50']\n",
        "\n",
        "# Extract data from the second Excel file\n",
        "x_data1 = df1['Strain50']\n",
        "y_data1 = df1['Stress50']\n",
        "\n",
        "# Interpolate missing data for both x and y from the first file\n",
        "interpolator_x = interp1d(df.index, x_data, kind='linear', fill_value='extrapolate')\n",
        "interpolator_y = interp1d(df.index, y_data, kind='linear', fill_value='extrapolate')\n",
        "\n",
        "# Interpolate missing data for both x and y from the second file\n",
        "interpolator_x1 = interp1d(df1.index, x_data1, kind='linear', fill_value='extrapolate')\n",
        "interpolator_y1 = interp1d(df1.index, y_data1, kind='linear', fill_value='extrapolate')\n",
        "\n",
        "# Generate new index values for interpolation\n",
        "new_index = pd.RangeIndex(start=min(df.index.min(), df1.index.min()), stop=max(df.index.max(), df1.index.max()) + 1)\n",
        "\n",
        "# Interpolate x and y values for the new index for the first file\n",
        "x_interp = interpolator_x(new_index)\n",
        "y_interp = interpolator_y(new_index)\n",
        "\n",
        "# Interpolate x and y values for the new index for the second file\n",
        "x_interp1 = interpolator_x1(new_index)\n",
        "y_interp1 = interpolator_y1(new_index)\n",
        "\n",
        "plt.figure(figsize=(16, 6))  # Adjust the size as needed\n",
        "\n",
        "# Plotting both stress-strain responses on the same plot\n",
        "plt.plot(x_interp, y_interp, label='Saturated_sample', marker='o', linestyle='-')\n",
        "plt.plot(x_interp1, y_interp1, label='Dry Sample', marker='x', linestyle='--')\n",
        "\n",
        "plt.xlabel('Strain')\n",
        "plt.ylabel('Stress MPa')\n",
        "plt.title('Stress-strain response for 50 MPa')\n",
        "plt.legend()\n",
        "plt.grid(True)  # Adding grid for clarity\n",
        "plt.show()\n"
      ],
      "metadata": {
        "id": "E_YR9I6r6AVi"
      },
      "execution_count": null,
      "outputs": []
    },
    {
      "cell_type": "markdown",
      "source": [
        "##  These codes shows the calculation of Change in surface area, Energy associated in breaking particle, Area under the stress-strain curve, Energy dissipated during deformation at a confined stress of 50 MPa."
      ],
      "metadata": {
        "id": "4OxMW0nA4Gtz"
      }
    },
    {
      "cell_type": "code",
      "source": [
        "import numpy as np\n",
        "import pandas as pd\n",
        "\n",
        "# # 50MPa\n",
        "\n",
        "# Given properties of Ottawa sand\n",
        "Ss = 0.0485  # specific surface area in m^2/g\n",
        "density = 2640  # density in kg/m^3 (converted from g/cm^3)\n",
        "\n",
        "# Particle diameter ranges before and after crushing (in meters)\n",
        "particle_diameter_ranges_before = [0.000251, 0.0003, 0.000425]  # before crushing. units in meters\n",
        "particle_diameter_ranges_after = [0.0002, 0.000212, 0.000251, 0.000425, 0.00085]  # after crushing. units in meters\n",
        "\n",
        "# Percent finer for each particle diameter range before and after crushing\n",
        "percent_finer_before = [20.6045081967213, 43.02254098, 48.4836065]  # percent finer (100% corresponds to the smallest diameter)\n",
        "percent_finer_after = [0, 9.31818181818182, 35.22727273, 47.27272727, 100]  # percent finer (100% corresponds to the smallest diameter)\n",
        "\n",
        "# Calculate the total surface area before crushing\n",
        "surface_area_before = sum([percent_finer / 100 * 4 * np.pi * (diameter / 2)**2 / (density * Ss) for diameter, percent_finer in zip(particle_diameter_ranges_before, percent_finer_before)])\n",
        "\n",
        "# Calculate the total surface area after crushing\n",
        "surface_area_after = sum([percent_finer / 100 * 4 * np.pi * (diameter / 2)**2 / (density * Ss) for diameter, percent_finer in zip(particle_diameter_ranges_after, percent_finer_after)])\n",
        "\n",
        "A = surface_area_after - surface_area_before\n",
        "print(\"Total surface area before crushing:\", surface_area_before, \"m^2\")\n",
        "print(\"Total surface area after crushing:\", surface_area_after, \"m^2\")\n",
        "print(\"Change in surface area:\", A, \"m^2\")\n",
        "\n",
        "# Fracture energy of shale rock 90 J/m2\n",
        "FEnergy = 90  # J/m2\n",
        "Ebreak = FEnergy * A\n",
        "print(\"Energy associated in breaking particle at 50MPa:\", Ebreak, \"Joules\")\n",
        "\n",
        "# Particle diameter ranges for strain energy calculation (in meters)\n",
        "particle_diameter_ranges = ['0 - 0.0002', '0.0002 - 0.000212', '0.000212 - 0.000251', '0.000251 - 0.000425', '0.000425 - 0.00085']  # m\n",
        "\n",
        "# Calculate midpoint from each bin\n",
        "particle_diameter_midpoints = [(float(x.split(' - ')[0]) + float(x.split(' - ')[1])) / 2 for x in particle_diameter_ranges]\n",
        "\n",
        "# Calculate the volume for each bin using midpoints as diameters\n",
        "volumes = [(4/3) * np.pi * (midpoint / 2) ** 3 for midpoint in particle_diameter_midpoints]  # (m³).\n",
        "\n",
        "# Define functions for further calculations (area under curve and energy dissipation)\n",
        "def calculate_area_under_curve(strain, stress):\n",
        "    area = 0\n",
        "    for i in range(1, len(strain)):\n",
        "        area += 0.5 * (stress[i-1] + stress[i]) * (strain[i] - strain[i-1])\n",
        "    return area\n",
        "\n",
        "def calculate_energy_dissipation(area_under_curve, volumes):\n",
        "    total_volume = np.sum(volumes)\n",
        "    energy_dissipated = area_under_curve * total_volume\n",
        "    return energy_dissipated\n",
        "\n",
        "# Read data from Excel file\n",
        "df1 = pd.read_excel('sample.xlsx')\n",
        "\n",
        "# Extract data from two different columns\n",
        "strain_data = df1['Strain50']  # Strain values\n",
        "stress_data = df1['Stress50']  # Stress values in MPa\n",
        "\n",
        "# Calculate the area under the stress-strain curve\n",
        "area_under_curve = calculate_area_under_curve(strain_data, stress_data)\n",
        "print(\"Area under the stress-strain curve:\", \"{:.3f}\".format(area_under_curve), \"MPa*dimensionless\")\n",
        "\n",
        "# Calculate energy dissipated during deformation\n",
        "energy_dissipated = calculate_energy_dissipation(area_under_curve, volumes)\n",
        "\n",
        "# multiply energy dissipated by 10^6 to convert from MPa to (Pa * m^3) to get Joules\n",
        "energy_dissipated *= 1e6  # Multiply by 10^6\n",
        "print(\"Energy dissipated during deformation:\", energy_dissipated, \"Joules\")\n"
      ],
      "metadata": {
        "id": "bfMxuOBq4Cz8"
      },
      "execution_count": null,
      "outputs": []
    },
    {
      "cell_type": "markdown",
      "source": [
        "##  These codes shows the calculation of Change in surface area, Energy associated in breaking particle, Area under the stress-strain curve, Energy dissipated during deformation at a confined stress of 10 MPa."
      ],
      "metadata": {
        "id": "UnVYhrCE3BqE"
      }
    },
    {
      "cell_type": "code",
      "source": [
        "import numpy as np\n",
        "# 10MPa\n",
        "# Given properties of Ottawa sand\n",
        "Ss = 0.0485  # specific surface area in m^2/g\n",
        "density = 2640  # density in kg/m^3 (converted from g/cm^3)\n",
        "\n",
        "# Particle diameter ranges before and after crushing (in meters)\n",
        "particle_diameter_ranges_before = [0.000251, 0.0003, 0.000425]  # before crushing\n",
        "particle_diameter_ranges_after = [0.0002, 0.000212, 0.000251, 0.000425, 0.00085]  # after crushing\n",
        "\n",
        "# Percent finer for each particle diameter range before and after crushing\n",
        "percent_finer_before = [ 20.6045081967213, 43.02254098, 48.4836065 ]  # percent finer (100% corresponds to the smallest diameter)\n",
        "percent_finer_after = [ 0, 0, 2.95454545454545, 12.9545454545454, 100 ]  # percent finer (100% corresponds to the smallest diameter)\n",
        "\n",
        "# Calculate the total surface area before crushing\n",
        "surface_area_before = sum([percent_finer / 100 * 4 * np.pi * (diameter / 2)**2 / (density * Ss) for diameter, percent_finer in zip(particle_diameter_ranges_before, percent_finer_before)])\n",
        "\n",
        "# Calculate the total surface area after crushing\n",
        "surface_area_after = sum([percent_finer / 100 * 4 * np.pi * (diameter / 2)**2 / (density * Ss) for diameter, percent_finer in zip(particle_diameter_ranges_after, percent_finer_after)])\n",
        "\n",
        "A = surface_area_after - surface_area_before\n",
        "print(\"Total surface area before crushing:\", surface_area_before, \"m^2\")\n",
        "print(\"Total surface area after crushing:\", surface_area_after, \"m^2\")\n",
        "print (\"Change in surface area:\", A, \"m^2\")\n",
        "\n",
        "\n",
        "# fracture energy of shale rock 90 J/m2\n",
        "FEnergy = 90 #J/m2\n",
        "Ebreak = FEnergy*A\n",
        "print (\"Energy associated in breaking particle at 10MPa:\", Ebreak, \"Joules\")\n",
        "\n",
        "# Particle diameter ranges for strain energy calculation (in meters)\n",
        "particle_diameter_ranges = ['0 - 0.0002', '0.0002 - 0.000212', '0.000212 - 0.000251', '0.000251 - 0.000425', '0.000425 - 0.00085']  # m\n",
        "\n",
        "# Calculate midpoint from each bin\n",
        "particle_diameter_midpoints = [(float(x.split(' - ')[0]) + float(x.split(' - ')[1])) / 2 for x in particle_diameter_ranges]\n",
        "\n",
        "# Calculate the volume for each bin using midpoints as diameters\n",
        "volumes = [(4/3) * np.pi * (midpoint / 2) ** 3 for midpoint in particle_diameter_midpoints]  # (m³).\n",
        "\n",
        "# Define functions for further calculations (area under curve and energy dissipation)\n",
        "def calculate_area_under_curve(strain, stress):\n",
        "    area = 0\n",
        "    for i in range(1, len(strain)):\n",
        "        area += 0.5 * (stress[i-1] + stress[i]) * (strain[i] - strain[i-1])\n",
        "    return area\n",
        "\n",
        "def calculate_energy_dissipation(area_under_curve, volumes):\n",
        "    total_volume = np.sum(volumes)\n",
        "    energy_dissipated = area_under_curve * total_volume\n",
        "    return energy_dissipated\n",
        "\n",
        "# Read data from Excel file\n",
        "df1 = pd.read_excel('sample.xlsx')\n",
        "\n",
        "# Extract data from two different columns\n",
        "strain_data = df1['Strain10']  # Strain values\n",
        "stress_data = df1['Stress10']  # Stress values in MPa\n",
        "\n",
        "\n",
        "\n",
        "# Calculate the area under the stress-strain curve\n",
        "area_under_curve = calculate_area_under_curve(strain_data, stress_data)\n",
        "print(\"Area under the stress-strain curve:\", \"{:.3f}\".format(area_under_curve), \"MPa*dimensionless\")\n",
        "\n",
        "\n",
        "# Calculate energy dissipated during deformation\n",
        "energy_dissipated = calculate_energy_dissipation(area_under_curve, volumes)\n",
        "\n",
        "\n",
        "# multiply energy dissipated by 10^6 to convert from MPa to (Pa * m^3) to get Joules\n",
        "energy_dissipated *= 1e6  # Multiply by 10^6\n",
        "print(\"Energy dissipated during deformation:\", energy_dissipated, \"Joules\")\n",
        "\n"
      ],
      "metadata": {
        "colab": {
          "base_uri": "https://localhost:8080/"
        },
        "id": "GlPdEn2YW3UG",
        "outputId": "a8dd96c3-e2fe-4360-b901-c210a9eb208c"
      },
      "execution_count": null,
      "outputs": [
        {
          "output_type": "stream",
          "name": "stdout",
          "text": [
            "Total surface area before crushing: 3.4172511496948187e-09 m^2\n",
            "Total surface area after crushing: 1.8347071399284047e-08 m^2\n",
            "Change in surface area: 1.4929820249589227e-08 m^2\n",
            "Energy associated in breaking particle at 10MPa: 1.3436838224630305e-06 Joules\n",
            "Area under the stress-strain curve: 0.242 MPa*dimensionless\n",
            "Energy dissipated during deformation: 4.0592945098198575e-05 Joules\n",
            "1.674714338306381e-10\n"
          ]
        }
      ]
    },
    {
      "cell_type": "markdown",
      "source": [
        "##  These codes shows the calculation of Change in surface area, Energy associated in breaking particle, Area under the stress-strain curve, Energy dissipated during deformation at a confined stress of 2 MPa."
      ],
      "metadata": {
        "id": "TZGSDZ_93oTb"
      }
    },
    {
      "cell_type": "code",
      "source": [
        "import numpy as np\n",
        "# 2MPa\n",
        "# Given properties of Ottawa sand\n",
        "Ss = 0.0485  # specific surface area in m^2/g\n",
        "density = 2640  # density in kg/m^3 (converted from g/cm^3)\n",
        "\n",
        "# Particle diameter ranges before and after crushing (in meters)\n",
        "particle_diameter_ranges_before = [0.000251, 0.0003, 0.000425]  # before crushing\n",
        "particle_diameter_ranges_after = [0.0002, 0.000212, 0.000251, 0.000425, 0.00085]  # after crushing\n",
        "\n",
        "# Percent finer for each particle diameter range before and after crushing\n",
        "percent_finer_before = [ 20.6045081967213, 43.02254098, 48.4836065 ]  # percent finer (100% corresponds to the smallest diameter)\n",
        "percent_finer_after = [ 0, 0, 0.454545454545461, 12.0454545454546, 100 ]  # percent finer (100% corresponds to the smallest diameter)\n",
        "\n",
        "# Calculate the total surface area before crushing\n",
        "surface_area_before = sum([percent_finer / 100 * 4 * np.pi * (diameter / 2)**2 / (density * Ss) for diameter, percent_finer in zip(particle_diameter_ranges_before, percent_finer_before)])\n",
        "\n",
        "# Calculate the total surface area after crushing\n",
        "surface_area_after = sum([percent_finer / 100 * 4 * np.pi * (diameter / 2)**2 / (density * Ss) for diameter, percent_finer in zip(particle_diameter_ranges_after, percent_finer_after)])\n",
        "\n",
        "A = surface_area_after - surface_area_before\n",
        "print(\"Total surface area before crushing:\", surface_area_before, \"m^2\")\n",
        "print(\"Total surface area after crushing:\", surface_area_after, \"m^2\")\n",
        "print (\"Change in surface area:\", A, \"m^2\")\n",
        "\n",
        "\n",
        "# Fracture energy of shale rock 90 J/m2\n",
        "FEnergy = 90  # J/m2\n",
        "Ebreak = FEnergy * A\n",
        "print(\"Energy associated in breaking particle at 2MPa:\", Ebreak, \"Joules\")\n",
        "\n",
        "# Particle diameter ranges for strain energy calculation (in meters)\n",
        "particle_diameter_ranges = ['0 - 0.0002', '0.0002 - 0.000212', '0.000212 - 0.000251', '0.000251 - 0.000425', '0.000425 - 0.00085']  # m\n",
        "\n",
        "# Calculate midpoint from each bin\n",
        "particle_diameter_midpoints = [(float(x.split(' - ')[0]) + float(x.split(' - ')[1])) / 2 for x in particle_diameter_ranges]\n",
        "\n",
        "# Calculate the volume for each bin using midpoints as diameters\n",
        "volumes = [(4/3) * np.pi * (midpoint / 2) ** 3 for midpoint in particle_diameter_midpoints]  # (m³).\n",
        "\n",
        "# Define functions for further calculations (area under curve and energy dissipation)\n",
        "def calculate_area_under_curve(strain, stress):\n",
        "    area = 0\n",
        "    for i in range(1, len(strain)):\n",
        "        area += 0.5 * (stress[i-1] + stress[i]) * (strain[i] - strain[i-1])\n",
        "    return area\n",
        "\n",
        "def calculate_energy_dissipation(area_under_curve, volumes):\n",
        "    total_volume = np.sum(volumes)\n",
        "    energy_dissipated = area_under_curve * total_volume\n",
        "    return energy_dissipated\n",
        "\n",
        "# Read data from Excel file\n",
        "df1 = pd.read_excel('sample.xlsx')\n",
        "\n",
        "# Extract data from two different columns\n",
        "strain_data = df1['Strain2']  # Strain values\n",
        "stress_data = df1['Stress2']  # Stress values in MPa\n",
        "\n",
        "# Calculate the area under the stress-strain curve\n",
        "area_under_curve = calculate_area_under_curve(strain_data, stress_data)\n",
        "print(\"Area under the stress-strain curve:\", \"{:.3f}\".format(area_under_curve), \"MPa*dimensionless\")\n",
        "\n",
        "# Calculate energy dissipated during deformation\n",
        "energy_dissipated = calculate_energy_dissipation(area_under_curve, volumes)\n",
        "\n",
        "# multiply energy dissipated by 10^6 to convert from MPa to (Pa * m^3) to get Joules\n",
        "energy_dissipated *= 1e6  # Multiply by 10^6\n",
        "print(\"Energy dissipated during deformation:\", energy_dissipated, \"Joules\")\n"
      ],
      "metadata": {
        "colab": {
          "base_uri": "https://localhost:8080/"
        },
        "id": "z0OkK0cnYGPv",
        "outputId": "01df92ae-0d16-4b98-9c4e-b3641acf7cbf"
      },
      "execution_count": null,
      "outputs": [
        {
          "output_type": "stream",
          "name": "stdout",
          "text": [
            "Total surface area before crushing: 3.4172511496948187e-09 m^2\n",
            "Total surface area after crushing: 1.8268137277868238e-08 m^2\n",
            "Change in surface area: 1.485088612817342e-08 m^2\n",
            "Energy associated in breaking particle at 2MPa: 1.3365797515356077e-06 Joules\n",
            "Area under the stress-strain curve: 0.012 MPa*dimensionless\n",
            "Energy dissipated during deformation: 2.0864648162793092e-06 Joules\n"
          ]
        }
      ]
    }
  ]
}